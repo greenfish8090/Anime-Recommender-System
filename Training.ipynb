{
 "cells": [
  {
   "cell_type": "markdown",
   "id": "7a71b64d",
   "metadata": {},
   "source": [
    "# Imports"
   ]
  },
  {
   "cell_type": "code",
   "execution_count": 1,
   "id": "70ce1373",
   "metadata": {},
   "outputs": [],
   "source": [
    "import torch\n",
    "from torch.utils.data import Dataset, DataLoader\n",
    "import pandas as pd\n",
    "import numpy as np\n",
    "import time\n",
    "import os\n",
    "import matplotlib.pyplot as plt"
   ]
  },
  {
   "cell_type": "markdown",
   "id": "773f6f4e",
   "metadata": {},
   "source": [
    "# Loading the data and some useful stats"
   ]
  },
  {
   "cell_type": "code",
   "execution_count": 2,
   "id": "144e3ed7",
   "metadata": {},
   "outputs": [],
   "source": [
    "directory = \"MAL Dataset/a5000u100k\""
   ]
  },
  {
   "cell_type": "code",
   "execution_count": 3,
   "id": "93fc2627",
   "metadata": {},
   "outputs": [
    {
     "data": {
      "text/plain": [
       "(100000, 5000, 0.044789772)"
      ]
     },
     "execution_count": 3,
     "metadata": {},
     "output_type": "execute_result"
    }
   ],
   "source": [
    "mal_dataset = pd.read_csv(os.path.join(directory, \"ratings.csv\"))\n",
    "nusers = mal_dataset['uid'].nunique()\n",
    "nanime = mal_dataset['aid'].nunique()\n",
    "sparsity = len(mal_dataset) / (nusers * nanime)\n",
    "nusers, nanime, sparsity"
   ]
  },
  {
   "cell_type": "markdown",
   "id": "c513bd9e",
   "metadata": {},
   "source": [
    "# Some hyperparameters\n",
    "latent_features: Latent dimension for anime and user matrices<br>\n",
    "lambd: Regularization term weight<br>\n",
    "And the rest are self explanatory"
   ]
  },
  {
   "cell_type": "code",
   "execution_count": 4,
   "id": "a60accf5",
   "metadata": {},
   "outputs": [
    {
     "data": {
      "text/plain": [
       "(device(type='cuda'), 'NVIDIA GeForce RTX 3070 Laptop GPU')"
      ]
     },
     "execution_count": 4,
     "metadata": {},
     "output_type": "execute_result"
    }
   ],
   "source": [
    "latent_features = 10\n",
    "learning_rate = 1e-4\n",
    "batch_size = 1024\n",
    "epochs = 20\n",
    "lambd = 3e-3\n",
    "device = torch.device(\"cuda\" if torch.cuda.is_available() else \"cpu\")\n",
    "device, torch.cuda.get_device_name(torch.cuda.current_device())"
   ]
  },
  {
   "cell_type": "markdown",
   "id": "33589e37",
   "metadata": {},
   "source": [
    "# Constructing the sparse matrix\n",
    "A (nanime x nusers) dimension matrix which contains ratings in sparse locations. Note that this is on the CPU RAM and not GPU RAM because of memory constraints"
   ]
  },
  {
   "cell_type": "code",
   "execution_count": 5,
   "id": "de9b58ec",
   "metadata": {},
   "outputs": [
    {
     "data": {
      "text/plain": [
       "torch.Size([5000, 100000])"
      ]
     },
     "execution_count": 5,
     "metadata": {},
     "output_type": "execute_result"
    }
   ],
   "source": [
    "ratings_sparse = torch.sparse_coo_tensor(torch.tensor(mal_dataset[['aid', 'uid']].values).T, torch.tensor(mal_dataset['my_score'].values).reshape(-1), (nanime, nusers))\n",
    "ratings_dense = ratings_sparse.to_dense()\n",
    "ratings_dense.shape"
   ]
  },
  {
   "cell_type": "markdown",
   "id": "b33de23a",
   "metadata": {},
   "source": [
    "# Mask\n",
    "This is so that when we generate the predicted ratings, we can element-wise multiply that with this matrix, in order to compute the RMSE against our existing ratings. This trick helps us vectorize everything rather than running a for loop.\n",
    "Again, this is not on the VRAM because of memory constraints.<br>"
   ]
  },
  {
   "cell_type": "code",
   "execution_count": 6,
   "id": "82364cd9",
   "metadata": {},
   "outputs": [],
   "source": [
    "mask = torch.where(ratings_dense>0, 1, 0)"
   ]
  },
  {
   "cell_type": "markdown",
   "id": "f4925016",
   "metadata": {},
   "source": [
    "# Feature scaling\n",
    "A neat little preprocessing step that's proven to speed up learning. It also appropriately deals with certain users who've rated very few anime"
   ]
  },
  {
   "cell_type": "code",
   "execution_count": 7,
   "id": "e244cd4f",
   "metadata": {},
   "outputs": [],
   "source": [
    "a_avs = torch.sum(ratings_dense, dim=1, keepdim=True) / torch.count_nonzero(ratings_dense, dim=1).reshape(-1,1)\n",
    "ratings_dense = mask * (ratings_dense - a_avs)\n",
    "\n",
    "a_stds = torch.sum(torch.square(ratings_dense), dim=1, keepdim=True) / (1e-3 + torch.count_nonzero(ratings_dense, dim=1).reshape(-1,1))\n",
    "a_stds = torch.sqrt(a_stds)\n",
    "\n",
    "ratings_dense = ratings_dense / a_stds"
   ]
  },
  {
   "cell_type": "code",
   "execution_count": 8,
   "id": "8187646a",
   "metadata": {},
   "outputs": [],
   "source": [
    "# These 1D matrices are not that big, so GPU time (if available ofc)\n",
    "a_stds = a_stds.to(device)\n",
    "a_avs = a_avs.to(device)"
   ]
  },
  {
   "cell_type": "code",
   "execution_count": 9,
   "id": "b55fa87a",
   "metadata": {
    "scrolled": true
   },
   "outputs": [
    {
     "data": {
      "text/plain": [
       "tensor([[1.0000],\n",
       "        [1.0000],\n",
       "        [1.0000],\n",
       "        ...,\n",
       "        [1.0000],\n",
       "        [1.0000],\n",
       "        [1.0000]])"
      ]
     },
     "execution_count": 9,
     "metadata": {},
     "output_type": "execute_result"
    }
   ],
   "source": [
    "# Just checking if std is 1\n",
    "torch.sum(torch.square(ratings_dense), dim=1, keepdim=True) / torch.count_nonzero(ratings_dense, dim=1).reshape(-1,1)"
   ]
  },
  {
   "cell_type": "code",
   "execution_count": 10,
   "id": "d57d7136",
   "metadata": {},
   "outputs": [
    {
     "data": {
      "text/plain": [
       "tensor([[-2.7682e-07],\n",
       "        [ 3.4735e-07],\n",
       "        [-1.1527e-07],\n",
       "        ...,\n",
       "        [ 1.3543e-07],\n",
       "        [ 7.6447e-09],\n",
       "        [ 1.2328e-07]])"
      ]
     },
     "execution_count": 10,
     "metadata": {},
     "output_type": "execute_result"
    }
   ],
   "source": [
    "# and mean is 0 for all anime\n",
    "torch.sum(ratings_dense, dim=1, keepdim=True) / torch.count_nonzero(ratings_dense, dim=1).reshape(-1,1)"
   ]
  },
  {
   "cell_type": "markdown",
   "id": "520ad85e",
   "metadata": {},
   "source": [
    "# Visualization\n",
    "Let's see the distributions before and after\n",
    "#### Before:"
   ]
  },
  {
   "cell_type": "code",
   "execution_count": 11,
   "id": "f884877b",
   "metadata": {
    "scrolled": false
   },
   "outputs": [
    {
     "data": {
      "text/plain": [
       "[<matplotlib.lines.Line2D at 0x1c60fd08d30>]"
      ]
     },
     "execution_count": 11,
     "metadata": {},
     "output_type": "execute_result"
    },
    {
     "data": {
      "image/png": "[encoded data removed]",
      "text/plain": [
       "<Figure size 432x288 with 1 Axes>"
      ]
     },
     "metadata": {
      "needs_background": "light"
     },
     "output_type": "display_data"
    }
   ],
   "source": [
    "plt.plot(np.sort(np.random.choice(mal_dataset['my_score'].to_numpy(), 1000)), '.')"
   ]
  },
  {
   "cell_type": "markdown",
   "id": "51aa995f",
   "metadata": {},
   "source": [
    "#### After:"
   ]
  },
  {
   "cell_type": "code",
   "execution_count": 12,
   "id": "b1087cd1",
   "metadata": {},
   "outputs": [
    {
     "data": {
      "image/png": "[encoded data removed]",
      "text/plain": [
       "<Figure size 432x288 with 1 Axes>"
      ]
     },
     "metadata": {
      "needs_background": "light"
     },
     "output_type": "display_data"
    }
   ],
   "source": [
    "nonzero = torch.nonzero(ratings_dense).numpy()\n",
    "nonzero_indices = np.random.choice(nonzero.shape[0], 1000, replace=False)\n",
    "nonzero = nonzero[nonzero_indices]\n",
    "agg = []\n",
    "for i, j in nonzero:\n",
    "    agg.append(float(ratings_dense[i,j]))\n",
    "    plt.plot(sorted(agg), '.')"
   ]
  },
  {
   "cell_type": "markdown",
   "id": "5a93a6d8",
   "metadata": {},
   "source": [
    "Works. If we wanted to feature-scale the matrix along each user instead, we can run the cell below but I think scaling per anime makes more sense."
   ]
  },
  {
   "cell_type": "code",
   "execution_count": 13,
   "id": "f659130a",
   "metadata": {},
   "outputs": [],
   "source": [
    "#user_avs = torch.sum(ratings_dense, dim=0, keepdim=True) / torch.count_nonzero(ratings_dense, dim=0).reshape(1,-1)\n",
    "#ratings_dense = mask * (ratings_dense - user_avs)\n",
    "\n",
    "#u_stds = torch.sum(torch.square(ratings_dense), dim=0, keepdim=True) / (1e-3 + torch.count_nonzero(ratings_dense, dim=0).reshape(1,-1))\n",
    "\n",
    "#ratings_dense = ratings_dense / torch.sqrt(user_stds)"
   ]
  },
  {
   "cell_type": "code",
   "execution_count": 14,
   "id": "756ca0c3",
   "metadata": {},
   "outputs": [
    {
     "data": {
      "text/plain": [
       "(20155397, 2239489, 22394886)"
      ]
     },
     "execution_count": 14,
     "metadata": {},
     "output_type": "execute_result"
    }
   ],
   "source": [
    "# Test train split\n",
    "train, test = np.split(mal_dataset[['uid', 'aid']].sample(frac=1), [int(0.9*len(mal_dataset))])\n",
    "train_len = len(train)\n",
    "test_len = len(test)\n",
    "total_len = train_len + test_len\n",
    "train_len, test_len, total_len"
   ]
  },
  {
   "cell_type": "markdown",
   "id": "18891fe8",
   "metadata": {},
   "source": [
    "# Test and train masks\n",
    "Just as the names suggest, masks for computing the test and train RMSE's vectorized-ly.<br>\n",
    "However making the mask itself is the one thing I couldn't vectorize. After wracking my brain and searching the PyTorch docs for a couple hours I gave up and settled for a for loop. A stain in the otherwise perfectly-vectorized notebook, sure, but at least I'm running it only once."
   ]
  },
  {
   "cell_type": "code",
   "execution_count": 15,
   "id": "2cd1834e",
   "metadata": {},
   "outputs": [
    {
     "data": {
      "text/plain": [
       "tensor(2239489)"
      ]
     },
     "execution_count": 15,
     "metadata": {},
     "output_type": "execute_result"
    }
   ],
   "source": [
    "# Masks for test and train datasets\n",
    "mask_test = torch.zeros_like(ratings_dense)\n",
    "for index, row in test[['uid', 'aid']].iterrows():\n",
    "    mask_test[row['aid'], row['uid']] = 1\n",
    "    \n",
    "mask_train = mask - mask_test\n",
    "torch.count_nonzero(mask_test)"
   ]
  },
  {
   "cell_type": "markdown",
   "id": "94fc809d",
   "metadata": {},
   "source": [
    "# Initializing the weights\n",
    "Only these matrices, which contain our learnable parameters, are initialized on the GPU for performance.<br>\n",
    "Oh, and of course, the optimizer. Why bother implementing it yourself when you're already committed to using PyTorch"
   ]
  },
  {
   "cell_type": "code",
   "execution_count": 16,
   "id": "adeae5fc",
   "metadata": {},
   "outputs": [],
   "source": [
    "user_matrix = torch.randn(latent_features, nusers, requires_grad=True, device=device)\n",
    "anime_matrix = torch.randn(nanime, latent_features, requires_grad=True, device=device)"
   ]
  },
  {
   "cell_type": "code",
   "execution_count": 17,
   "id": "555525bd",
   "metadata": {},
   "outputs": [],
   "source": [
    "optimizer = torch.optim.Adam([\n",
    "    {'params': user_matrix},\n",
    "    {'params': anime_matrix}\n",
    "], lr=learning_rate)"
   ]
  },
  {
   "cell_type": "code",
   "execution_count": 18,
   "id": "3273d854",
   "metadata": {},
   "outputs": [],
   "source": [
    "# For plotting\n",
    "total_rmse_history = []\n",
    "test_rmse_history = []\n",
    "train_rmse_history = []"
   ]
  },
  {
   "cell_type": "markdown",
   "id": "7124685f",
   "metadata": {},
   "source": [
    "# Partitioning\n",
    "Remember how we created the ratings and mask matrices on the CPU? Well, we need to send them over to the GPU to compute the RMSE's. We certainly don't want to do it in the CPU.<br>\n",
    "The GPU only has so much memory, so we need to split up the big matrices and compute the RMSE by aggregating the result from each partition."
   ]
  },
  {
   "cell_type": "code",
   "execution_count": 19,
   "id": "a38fef53",
   "metadata": {},
   "outputs": [],
   "source": [
    "partitions = 10"
   ]
  },
  {
   "cell_type": "markdown",
   "id": "686fef99",
   "metadata": {},
   "source": [
    "# The training loop\n",
    "### Batching\n",
    "This is the part which is relatively unique and required a bit of thinking. We need (approximately) batch_size number of ratings per batch, and these ratings need to be organized in a matrix similar to the sparse matrix in order for the loss computation to be vectorized.<br>\n",
    "The \"chunk\" variable in the data-loader contains a pandas dataframe with 3 columns and batch_size rows. We construct a diagonal matrix of size batch_size x batch_size where the rows are anime and columns are users, and the actual elements are ratings. This is not quite similar to the original ratings matrix, as there may be duplicate user/anime columns/rows, but this effectively solves the vectorization problem. PyTorch's autograd takes care of the rest.\n",
    "### Loss\n",
    "This is just a simple matrix norm of the difference between masked predictions and existing ratings. Added to it is a simple regularization term.\n",
    "### Testing\n",
    "This is where our earlier computed mask, ratings matrix and partitions come into play. Using these we compute a slightly different loss metric compared to while training, which is the RMSE. It's a commonly used metric in recommender systems that was also used in the [Netflix Prize](https://en.wikipedia.org/wiki/Netflix_Prize) contest. Regularization is not taken into account here.<br>\n",
    "### Performance profiling\n",
    "[Robert Kern's line_profiler](https://github.com/pyutils/line_profiler) is used to time each line and identify bottlenecks. In my case, I was using PyTorch's dataloader earlier and that was taking up about 87% of the total time per loop just to fetch data. Increasing the num_workers parameters led to crashes due to windows restricting multithreading or something (I'm not very knowledgeable in the matter, check https://github.com/pytorch/pytorch/issues/12831). After fruitless efforts to remedy that I just ended up using good ol' numpy. Now my \"bottleneck\" is the batchwise loss computation and backpropagation, which I'll leave to PyTorch and Nvidia to optimize :)\n",
    "\n",
    "P.S. You might notice a lot of commented debugging statements in the middle, that's to be expected cause this is my first time using PyTorch and messing around with CUDA :]"
   ]
  },
  {
   "cell_type": "code",
   "execution_count": 20,
   "id": "8908914a",
   "metadata": {},
   "outputs": [],
   "source": [
    "%load_ext line_profiler\n",
    "def training_loop():\n",
    "    for epoch in range(epochs):\n",
    "        print(\"Epoch \" + str(epoch))\n",
    "        for i, chunk in enumerate(np.array_split(train, int(len(train)/batch_size))):\n",
    "            if i%5000 == 0:\n",
    "                print(str(i) + \" iterations, \" + str(len(chunk) * i) + \" samples processed\")\n",
    "                te, tr, to, stop = rmse()\n",
    "                print(\"Test RMSE: \" + str(te))\n",
    "                print(\"Train RMSE: \" + str(tr))\n",
    "                print(\"Total RMSE: \" + str(to))\n",
    "                print(\"\")\n",
    "                \n",
    "                if stop:\n",
    "                    return\n",
    "            \n",
    "            optimizer.zero_grad()\n",
    "            samples = torch.tensor(chunk.values)\n",
    "#            print(\"Grad before backprop: \" + str(float(torch.norm(anime_matrix.grad)))) if anime_matrix.grad is not None else print(\"Grad before backprop: None\")\n",
    "            mask_cuda = torch.diag(torch.ones(len(chunk), device=device))\n",
    "            ratings_cuda = ratings_dense[samples[:,1], samples[:,0]].to(device)\n",
    "            loss = torch.norm(mask_cuda * torch.matmul(anime_matrix[samples[:,1], :], user_matrix[:, samples[:,0]]) - ratings_cuda) + lambd * (torch.norm(anime_matrix[samples[:,1], :]) + torch.norm(user_matrix[:, samples[:,0]]))\n",
    "            loss.backward()\n",
    "#            print(\"Grad after backprop: \" + str(float(torch.norm(anime_matrix.grad)))) if anime_matrix.grad is not None else print(\"Grad after backprop: None\")\n",
    "#            am = anime_matrix.clone().detach()\n",
    "            optimizer.step()\n",
    "            del mask_cuda\n",
    "            del ratings_cuda\n",
    "#            print(\"Difference after step: \" + str(float(torch.sum(am-anime_matrix))))\n",
    "#            print(\"\")\n",
    "#            time.sleep(5)\n",
    "\n",
    "def rmse():\n",
    "    test_rmse = 0\n",
    "    train_rmse = 0\n",
    "    preds = torch.matmul(anime_matrix, user_matrix) * a_stds + a_avs\n",
    "    for n in range(partitions):\n",
    "        a_start = int(nanime*n/partitions)\n",
    "        a_end = int(nanime*(n+1)/partitions)\n",
    "        u_start = int(nusers*n/partitions)\n",
    "        u_end = int(nusers*(n+1)/partitions)\n",
    "        ratings_c = ratings_dense[a_start:a_end, u_start:u_end].to(device)\n",
    "        mask_c_test = mask_test[a_start:a_end, u_start:u_end].to(device)\n",
    "        mask_c_train = mask_train[a_start:a_end, u_start:u_end].to(device)\n",
    "        pred_partition = preds[a_start:a_end, u_start:u_end]\n",
    "        a_stds_part = a_stds[a_start:a_end]\n",
    "        a_avs_part = a_avs[a_start:a_end]\n",
    "        test_rmse += float(torch.sum(torch.square(mask_c_test * pred_partition - mask_c_test * (ratings_c * a_stds_part + a_avs_part))))\n",
    "        train_rmse += float(torch.sum(torch.square(mask_c_train * pred_partition - mask_c_train * (ratings_c * a_stds_part + a_avs_part))))\n",
    "        del ratings_c\n",
    "        del mask_c_test\n",
    "        del mask_c_train\n",
    "    total_rmse = test_rmse + train_rmse\n",
    "    \n",
    "    test_rmse = np.sqrt(test_rmse/test_len)\n",
    "    train_rmse = np.sqrt(train_rmse/train_len)\n",
    "    total_rmse = np.sqrt(total_rmse/total_len)\n",
    "    \n",
    "    test_rmse_history.append(test_rmse)\n",
    "    train_rmse_history.append(train_rmse)\n",
    "    total_rmse_history.append(total_rmse)\n",
    "    del preds\n",
    "    stop = False\n",
    "    if len(test_rmse_history) >= 2 and abs(train_rmse_history[-1] - train_rmse_history[-2]) < 1e-4:\n",
    "        stop = True\n",
    "    \n",
    "    return test_rmse, train_rmse, total_rmse, stop"
   ]
  },
  {
   "cell_type": "code",
   "execution_count": 21,
   "id": "780da2e7",
   "metadata": {
    "scrolled": true
   },
   "outputs": [
    {
     "name": "stdout",
     "output_type": "stream",
     "text": [
      "Epoch 0\n",
      "0 iterations, 0 samples processed\n",
      "Test RMSE: 1.5784769264597824\n",
      "Train RMSE: 1.5812799928511283\n",
      "Total RMSE: 1.5809999098009249\n",
      "\n",
      "5000 iterations, 5120000 samples processed\n",
      "Test RMSE: 1.44317598476689\n",
      "Train RMSE: 1.444837890610659\n",
      "Total RMSE: 1.4446717860278486\n",
      "\n",
      "10000 iterations, 10240000 samples processed\n",
      "Test RMSE: 1.3189363605877953\n",
      "Train RMSE: 1.3196310454336968\n",
      "Total RMSE: 1.3195615933939981\n",
      "\n",
      "15000 iterations, 15360000 samples processed\n",
      "Test RMSE: 1.2052122128977483\n",
      "Train RMSE: 1.2051376154348532\n",
      "Total RMSE: 1.2051450753902635\n",
      "\n",
      "Epoch 1\n",
      "0 iterations, 0 samples processed\n",
      "Test RMSE: 1.1089871385460084\n",
      "Train RMSE: 1.108273138079852\n",
      "Total RMSE: 1.1083445588375258\n",
      "\n",
      "5000 iterations, 5120000 samples processed\n",
      "Test RMSE: 1.0175621534159252\n",
      "Train RMSE: 1.0163399741874815\n",
      "Total RMSE: 1.0164622582610305\n",
      "\n",
      "10000 iterations, 10240000 samples processed\n",
      "Test RMSE: 0.9375732504563871\n",
      "Train RMSE: 0.9359573946271417\n",
      "Total RMSE: 0.9361191057513526\n",
      "\n",
      "15000 iterations, 15360000 samples processed\n",
      "Test RMSE: 0.8685095131965145\n",
      "Train RMSE: 0.8665647294012044\n",
      "Total RMSE: 0.8667594041771448\n",
      "\n",
      "Epoch 2\n",
      "0 iterations, 0 samples processed\n",
      "Test RMSE: 0.8131063316891914\n",
      "Train RMSE: 0.810872814773867\n",
      "Total RMSE: 0.811096443275062\n",
      "\n",
      "5000 iterations, 5120000 samples processed\n",
      "Test RMSE: 0.7627334516877508\n",
      "Train RMSE: 0.7603054973992491\n",
      "Total RMSE: 0.7605486416636132\n",
      "\n",
      "10000 iterations, 10240000 samples processed\n",
      "Test RMSE: 0.7201319387385001\n",
      "Train RMSE: 0.7175845783437362\n",
      "Total RMSE: 0.7178397212147176\n",
      "\n",
      "15000 iterations, 15360000 samples processed\n",
      "Test RMSE: 0.6841737541337685\n",
      "Train RMSE: 0.6814825275056721\n",
      "Total RMSE: 0.6817521282813584\n",
      "\n",
      "Epoch 3\n",
      "0 iterations, 0 samples processed\n",
      "Test RMSE: 0.6556695869996825\n",
      "Train RMSE: 0.6528499179482722\n",
      "Total RMSE: 0.653132432685817\n",
      "\n",
      "5000 iterations, 5120000 samples processed\n",
      "Test RMSE: 0.6298429359748124\n",
      "Train RMSE: 0.626976639958499\n",
      "Total RMSE: 0.6272638590038206\n",
      "\n",
      "10000 iterations, 10240000 samples processed\n",
      "Test RMSE: 0.6079489163043801\n",
      "Train RMSE: 0.6051073632262134\n",
      "Total RMSE: 0.6053921187731605\n",
      "\n",
      "15000 iterations, 15360000 samples processed\n",
      "Test RMSE: 0.5893956986127642\n",
      "Train RMSE: 0.5865378997423227\n",
      "Total RMSE: 0.586824305959687\n",
      "\n",
      "Epoch 4\n",
      "0 iterations, 0 samples processed\n",
      "Test RMSE: 0.5745527238490135\n",
      "Train RMSE: 0.5716929106381443\n",
      "Total RMSE: 0.5719795354497431\n",
      "\n",
      "5000 iterations, 5120000 samples processed\n",
      "Test RMSE: 0.560978157935893\n",
      "Train RMSE: 0.558178313906459\n",
      "Total RMSE: 0.558458930027978\n",
      "\n",
      "10000 iterations, 10240000 samples processed\n",
      "Test RMSE: 0.549331350828815\n",
      "Train RMSE: 0.5466473370771044\n",
      "Total RMSE: 0.5469163312363442\n",
      "\n",
      "15000 iterations, 15360000 samples processed\n",
      "Test RMSE: 0.5393774628902693\n",
      "Train RMSE: 0.5367678897516924\n",
      "Total RMSE: 0.5370294177409559\n",
      "\n",
      "Epoch 5\n",
      "0 iterations, 0 samples processed\n",
      "Test RMSE: 0.5313318019358648\n",
      "Train RMSE: 0.528804251363723\n",
      "Total RMSE: 0.529057549853524\n",
      "\n",
      "5000 iterations, 5120000 samples processed\n",
      "Test RMSE: 0.5239238853290324\n",
      "Train RMSE: 0.5215206463829567\n",
      "Total RMSE: 0.5217614684413077\n",
      "\n",
      "10000 iterations, 10240000 samples processed\n",
      "Test RMSE: 0.5175104870938123\n",
      "Train RMSE: 0.5152688650811231\n",
      "Total RMSE: 0.5154934659686268\n",
      "\n",
      "15000 iterations, 15360000 samples processed\n",
      "Test RMSE: 0.5119961482542508\n",
      "Train RMSE: 0.5098775438645609\n",
      "Total RMSE: 0.51008980031462\n",
      "\n",
      "Epoch 6\n",
      "0 iterations, 0 samples processed\n",
      "Test RMSE: 0.5075056468642439\n",
      "Train RMSE: 0.5055053233537005\n",
      "Total RMSE: 0.505705711794062\n",
      "\n",
      "5000 iterations, 5120000 samples processed\n",
      "Test RMSE: 0.5033392631187878\n",
      "Train RMSE: 0.5014855877744611\n",
      "Total RMSE: 0.5016712635620184\n",
      "\n",
      "10000 iterations, 10240000 samples processed\n",
      "Test RMSE: 0.4996909878659236\n",
      "Train RMSE: 0.4980014726437872\n",
      "Total RMSE: 0.4981706820411977\n",
      "\n",
      "15000 iterations, 15360000 samples processed\n",
      "Test RMSE: 0.49650736932143574\n",
      "Train RMSE: 0.4949499071808251\n",
      "Total RMSE: 0.49510587389275273\n",
      "\n",
      "Epoch 7\n",
      "0 iterations, 0 samples processed\n",
      "Test RMSE: 0.49386522781125974\n",
      "Train RMSE: 0.4924225992529948\n",
      "Total RMSE: 0.4925670522670883\n",
      "\n",
      "5000 iterations, 5120000 samples processed\n",
      "Test RMSE: 0.49132890809183033\n",
      "Train RMSE: 0.49002266025087554\n",
      "Total RMSE: 0.49015344170879555\n",
      "\n",
      "10000 iterations, 10240000 samples processed\n",
      "Test RMSE: 0.4889999030004988\n",
      "Train RMSE: 0.48782950039225154\n",
      "Total RMSE: 0.48794666700524614\n",
      "\n",
      "15000 iterations, 15360000 samples processed\n",
      "Test RMSE: 0.48680397918608215\n",
      "Train RMSE: 0.4857432276119348\n",
      "Total RMSE: 0.485849407005237\n",
      "\n",
      "Epoch 8\n",
      "0 iterations, 0 samples processed\n",
      "Test RMSE: 0.4847866223792044\n",
      "Train RMSE: 0.4838087479291074\n",
      "Total RMSE: 0.4839066243152275\n",
      "\n",
      "5000 iterations, 5120000 samples processed\n",
      "Test RMSE: 0.4825575020667452\n",
      "Train RMSE: 0.48167936250803634\n",
      "Total RMSE: 0.48176724850776936\n",
      "\n",
      "10000 iterations, 10240000 samples processed\n",
      "Test RMSE: 0.4801565849013317\n",
      "Train RMSE: 0.479364196317595\n",
      "Total RMSE: 0.4794434941221786\n",
      "\n",
      "15000 iterations, 15360000 samples processed\n",
      "Test RMSE: 0.4774475955788056\n",
      "Train RMSE: 0.4767156551440748\n",
      "Total RMSE: 0.47678889976421684\n",
      "\n",
      "Epoch 9\n",
      "0 iterations, 0 samples processed\n",
      "Test RMSE: 0.4745285196150113\n",
      "Train RMSE: 0.4738242800737915\n",
      "Total RMSE: 0.473894751135136\n",
      "\n",
      "5000 iterations, 5120000 samples processed\n",
      "Test RMSE: 0.4708786931866498\n",
      "Train RMSE: 0.4702121142338396\n",
      "Total RMSE: 0.47027881465780796\n",
      "\n",
      "10000 iterations, 10240000 samples processed\n",
      "Test RMSE: 0.4666405752639806\n",
      "Train RMSE: 0.4659873923993093\n",
      "Total RMSE: 0.46605275189268824\n",
      "\n",
      "15000 iterations, 15360000 samples processed\n",
      "Test RMSE: 0.46173400744139853\n",
      "Train RMSE: 0.4610644325903299\n",
      "Total RMSE: 0.4611314338382107\n",
      "\n",
      "Epoch 10\n",
      "0 iterations, 0 samples processed\n",
      "Test RMSE: 0.4565927316478613\n",
      "Train RMSE: 0.4558739790577077\n",
      "Total RMSE: 0.45594590531640505\n",
      "\n",
      "5000 iterations, 5120000 samples processed\n",
      "Test RMSE: 0.45065273190549\n",
      "Train RMSE: 0.44989257081344053\n",
      "Total RMSE: 0.44996864472475095\n",
      "\n",
      "10000 iterations, 10240000 samples processed\n",
      "Test RMSE: 0.44452131413030455\n",
      "Train RMSE: 0.44369943492471653\n",
      "Total RMSE: 0.44378169135501033\n",
      "\n",
      "15000 iterations, 15360000 samples processed\n",
      "Test RMSE: 0.43838166308269827\n",
      "Train RMSE: 0.4374782366329412\n",
      "Total RMSE: 0.4375686632307772\n",
      "\n",
      "Epoch 11\n",
      "0 iterations, 0 samples processed\n",
      "Test RMSE: 0.4328779058213028\n",
      "Train RMSE: 0.4318805660023742\n",
      "Total RMSE: 0.43198040362000933\n",
      "\n",
      "5000 iterations, 5120000 samples processed\n",
      "Test RMSE: 0.427456188926127\n",
      "Train RMSE: 0.42639136688211365\n",
      "Total RMSE: 0.42649796873818957\n",
      "\n",
      "10000 iterations, 10240000 samples processed\n",
      "Test RMSE: 0.42263025644237434\n",
      "Train RMSE: 0.4214973388286085\n",
      "Total RMSE: 0.42161076760298094\n",
      "\n",
      "15000 iterations, 15360000 samples processed\n",
      "Test RMSE: 0.41837711704519603\n",
      "Train RMSE: 0.41716748010073723\n",
      "Total RMSE: 0.4172886016092418\n",
      "\n",
      "Epoch 12\n",
      "0 iterations, 0 samples processed\n",
      "Test RMSE: 0.414920304980963\n",
      "Train RMSE: 0.41363651672329926\n",
      "Total RMSE: 0.41376507481641583\n",
      "\n",
      "5000 iterations, 5120000 samples processed\n",
      "Test RMSE: 0.41176817184151143\n",
      "Train RMSE: 0.4104435273835329\n",
      "Total RMSE: 0.4105761841699499\n",
      "\n",
      "10000 iterations, 10240000 samples processed\n",
      "Test RMSE: 0.4091056225803206\n",
      "Train RMSE: 0.407741922395594\n",
      "Total RMSE: 0.4078784976111741\n",
      "\n",
      "15000 iterations, 15360000 samples processed\n",
      "Test RMSE: 0.4068400564663315\n",
      "Train RMSE: 0.4054230668284381\n",
      "Total RMSE: 0.40556498860235585\n",
      "\n",
      "Epoch 13\n",
      "0 iterations, 0 samples processed\n",
      "Test RMSE: 0.40502257885182685\n",
      "Train RMSE: 0.4035582381746824\n",
      "Total RMSE: 0.40370491128783054\n",
      "\n",
      "5000 iterations, 5120000 samples processed\n",
      "Test RMSE: 0.4033879145313098\n",
      "Train RMSE: 0.4019035638728827\n",
      "Total RMSE: 0.4020522455710127\n",
      "\n",
      "10000 iterations, 10240000 samples processed\n",
      "Test RMSE: 0.4020067239749583\n",
      "Train RMSE: 0.4005019766008008\n",
      "Total RMSE: 0.4006527056800067\n",
      "\n",
      "15000 iterations, 15360000 samples processed\n",
      "Test RMSE: 0.40082442049809774\n",
      "Train RMSE: 0.39928237167545566\n",
      "Total RMSE: 0.3994368444779473\n",
      "\n",
      "Epoch 14\n",
      "0 iterations, 0 samples processed\n",
      "Test RMSE: 0.39986001161810475\n",
      "Train RMSE: 0.3982905891308875\n",
      "Total RMSE: 0.3984478095845216\n",
      "\n",
      "5000 iterations, 5120000 samples processed\n",
      "Test RMSE: 0.3989966589487463\n",
      "Train RMSE: 0.39741827454990425\n",
      "Total RMSE: 0.3975763949975896\n",
      "\n",
      "10000 iterations, 10240000 samples processed\n",
      "Test RMSE: 0.3982576819124801\n",
      "Train RMSE: 0.3966715783299274\n",
      "Total RMSE: 0.396830473996177\n",
      "\n",
      "15000 iterations, 15360000 samples processed\n",
      "Test RMSE: 0.39761326281356796\n",
      "Train RMSE: 0.39600317543003744\n",
      "Total RMSE: 0.3961644786637916\n",
      "\n"
     ]
    },
    {
     "name": "stdout",
     "output_type": "stream",
     "text": [
      "Epoch 15\n",
      "0 iterations, 0 samples processed\n",
      "Test RMSE: 0.39707459373914483\n",
      "Train RMSE: 0.39545275887210424\n",
      "Total RMSE: 0.3956152415818573\n",
      "\n",
      "5000 iterations, 5120000 samples processed\n",
      "Test RMSE: 0.3966002797396179\n",
      "Train RMSE: 0.3949760459656097\n",
      "Total RMSE: 0.39513876981369883\n",
      "\n",
      "10000 iterations, 10240000 samples processed\n",
      "Test RMSE: 0.39618779124942055\n",
      "Train RMSE: 0.3945652746897852\n",
      "Total RMSE: 0.39472782649358357\n",
      "\n",
      "15000 iterations, 15360000 samples processed\n",
      "Test RMSE: 0.3958190330234831\n",
      "Train RMSE: 0.3941821559618838\n",
      "Total RMSE: 0.39434614944784796\n",
      "\n",
      "Epoch 16\n",
      "0 iterations, 0 samples processed\n",
      "Test RMSE: 0.39550147327122476\n",
      "Train RMSE: 0.3938633735067628\n",
      "Total RMSE: 0.39402748996761827\n",
      "\n",
      "5000 iterations, 5120000 samples processed\n",
      "Test RMSE: 0.39523243685982445\n",
      "Train RMSE: 0.39359509576013135\n",
      "Total RMSE: 0.39375913627936177\n",
      "\n",
      "10000 iterations, 10240000 samples processed\n",
      "Test RMSE: 0.3949937817572873\n",
      "Train RMSE: 0.3933643818113838\n",
      "Total RMSE: 0.39352762542889275\n",
      "\n",
      "15000 iterations, 15360000 samples processed\n",
      "Test RMSE: 0.39477345881668885\n",
      "Train RMSE: 0.3931353739855647\n",
      "Total RMSE: 0.39329948951473964\n",
      "\n",
      "Epoch 17\n",
      "0 iterations, 0 samples processed\n",
      "Test RMSE: 0.3945767089925676\n",
      "Train RMSE: 0.39294344130473696\n",
      "Total RMSE: 0.3931070734658466\n",
      "\n",
      "5000 iterations, 5120000 samples processed\n",
      "Test RMSE: 0.39442160331250725\n",
      "Train RMSE: 0.3927898319268926\n",
      "Total RMSE: 0.39295331401776645\n",
      "\n",
      "10000 iterations, 10240000 samples processed\n",
      "Test RMSE: 0.3942801617531356\n",
      "Train RMSE: 0.392660043259712\n",
      "Total RMSE: 0.3928223558218483\n",
      "\n",
      "15000 iterations, 15360000 samples processed\n",
      "Test RMSE: 0.3941434605603225\n",
      "Train RMSE: 0.39251757946331056\n",
      "Total RMSE: 0.39268047053813887\n",
      "\n",
      "Epoch 18\n",
      "0 iterations, 0 samples processed\n",
      "Test RMSE: 0.39401601346570525\n",
      "Train RMSE: 0.392397993823272\n",
      "Total RMSE: 0.39256009592206853\n",
      "\n",
      "5000 iterations, 5120000 samples processed\n",
      "Test RMSE: 0.3939269734214841\n",
      "Train RMSE: 0.3923100190485627\n",
      "Total RMSE: 0.39247201429261613\n",
      "\n"
     ]
    }
   ],
   "source": [
    "%lprun -f training_loop training_loop()"
   ]
  },
  {
   "cell_type": "code",
   "execution_count": 22,
   "id": "5583a2e9",
   "metadata": {
    "scrolled": true
   },
   "outputs": [
    {
     "data": {
      "text/plain": [
       "[<matplotlib.lines.Line2D at 0x1c62aeafe50>]"
      ]
     },
     "execution_count": 22,
     "metadata": {},
     "output_type": "execute_result"
    },
    {
     "data": {
      "image/png": "[encoded data removed]",
      "text/plain": [
       "<Figure size 432x288 with 1 Axes>"
      ]
     },
     "metadata": {
      "needs_background": "light"
     },
     "output_type": "display_data"
    }
   ],
   "source": [
    "plt.plot(test_rmse_history)\n",
    "plt.plot(train_rmse_history)\n",
    "plt.plot(total_rmse_history)"
   ]
  },
  {
   "cell_type": "markdown",
   "id": "7eb0c230",
   "metadata": {},
   "source": [
    "# Original ratings matrix\n",
    "It's good to look back once in a while"
   ]
  },
  {
   "cell_type": "code",
   "execution_count": 23,
   "id": "0056f137",
   "metadata": {
    "scrolled": true
   },
   "outputs": [
    {
     "data": {
      "text/plain": [
       "tensor([[ 8.,  0.,  0.,  ...,  9.,  0.,  0.],\n",
       "        [ 9.,  0.,  0.,  ...,  0.,  0.,  0.],\n",
       "        [ 9.,  0.,  0.,  ...,  7., 10.,  9.],\n",
       "        ...,\n",
       "        [ 0.,  0.,  0.,  ...,  0.,  0.,  0.],\n",
       "        [ 0.,  0.,  0.,  ...,  0.,  0.,  0.],\n",
       "        [ 0.,  0.,  0.,  ...,  0.,  0.,  0.]])"
      ]
     },
     "execution_count": 23,
     "metadata": {},
     "output_type": "execute_result"
    }
   ],
   "source": [
    "mask * (ratings_dense * a_stds.cpu() + a_avs.cpu())"
   ]
  },
  {
   "cell_type": "markdown",
   "id": "7a6c23f7",
   "metadata": {},
   "source": [
    "# Our predictions\n",
    "And see how far we've come"
   ]
  },
  {
   "cell_type": "code",
   "execution_count": 24,
   "id": "8c22d616",
   "metadata": {
    "scrolled": false
   },
   "outputs": [
    {
     "data": {
      "text/plain": [
       "tensor([[8.4520, 9.1984, 8.7975,  ..., 8.4701, 9.3084, 9.1230],\n",
       "        [8.6631, 9.2471, 8.9340,  ..., 8.6756, 9.3432, 9.1802],\n",
       "        [6.9588, 8.6903, 7.7465,  ..., 6.8614, 8.9080, 8.4700],\n",
       "        ...,\n",
       "        [5.8324, 8.2767, 6.9205,  ..., 5.8093, 8.1039, 7.6971],\n",
       "        [5.5819, 8.1587, 6.6347,  ..., 5.9054, 8.1022, 7.8393],\n",
       "        [7.6138, 9.2768, 8.5080,  ..., 7.2696, 9.5430, 9.2227]],\n",
       "       device='cuda:0', grad_fn=<AddBackward0>)"
      ]
     },
     "execution_count": 24,
     "metadata": {},
     "output_type": "execute_result"
    }
   ],
   "source": [
    "mul = torch.matmul(anime_matrix, user_matrix) * a_stds + a_avs\n",
    "mul"
   ]
  },
  {
   "cell_type": "markdown",
   "id": "a83feb03",
   "metadata": {},
   "source": [
    "# Visualization\n",
    "### Predicted ratings:"
   ]
  },
  {
   "cell_type": "code",
   "execution_count": 25,
   "id": "d3594739",
   "metadata": {
    "scrolled": true
   },
   "outputs": [
    {
     "data": {
      "text/plain": [
       "[<matplotlib.lines.Line2D at 0x1c62afaa3d0>]"
      ]
     },
     "execution_count": 25,
     "metadata": {},
     "output_type": "execute_result"
    },
    {
     "data": {
      "image/png": "[encoded data removed]",
      "text/plain": [
       "<Figure size 432x288 with 1 Axes>"
      ]
     },
     "metadata": {
      "needs_background": "light"
     },
     "output_type": "display_data"
    }
   ],
   "source": [
    "plt.plot(np.sort(np.random.choice(mul.reshape(1,-1).detach().cpu().numpy()[0], 10000)), '.')"
   ]
  },
  {
   "cell_type": "markdown",
   "id": "50fe039d",
   "metadata": {},
   "source": [
    "Clipping our predictions to lie between 0 and 10 will make it the distribution look pretty similar to the original one. I'm not going to bother though because it makes no difference to the end user."
   ]
  },
  {
   "cell_type": "code",
   "execution_count": 26,
   "id": "d80b6225",
   "metadata": {},
   "outputs": [],
   "source": [
    "torch.save(anime_matrix.detach(), os.path.join(directory, 'anime_matrix.pt'))\n",
    "torch.save(user_matrix.detach(), os.path.join(directory, 'user_matrix.pt'))\n",
    "torch.save(a_avs, os.path.join(directory, 'a_avs.pt'))\n",
    "torch.save(a_stds, os.path.join(directory, 'a_stds.pt'))\n",
    "torch.save(mask.bool(), os.path.join(directory, 'mask.pt'))"
   ]
  },
  {
   "cell_type": "code",
   "execution_count": null,
   "id": "a6d6c331",
   "metadata": {},
   "outputs": [],
   "source": []
  }
 ],
 "metadata": {
  "kernelspec": {
   "display_name": "Python 3 (ipykernel)",
   "language": "python",
   "name": "python3"
  },
  "language_info": {
   "codemirror_mode": {
    "name": "ipython",
    "version": 3
   },
   "file_extension": ".py",
   "mimetype": "text/x-python",
   "name": "python",
   "nbconvert_exporter": "python",
   "pygments_lexer": "ipython3",
   "version": "3.8.12"
  }
 },
 "nbformat": 4,
 "nbformat_minor": 5
}
