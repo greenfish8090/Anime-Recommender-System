{
 "cells": [
  {
   "cell_type": "markdown",
   "id": "7a71b64d",
   "metadata": {},
   "source": [
    "# Imports"
   ]
  },
  {
   "cell_type": "code",
   "execution_count": 1,
   "id": "70ce1373",
   "metadata": {},
   "outputs": [],
   "source": [
    "import torch\n",
    "from torch.utils.data import Dataset, DataLoader\n",
    "import pandas as pd\n",
    "import numpy as np\n",
    "import time\n",
    "import os\n",
    "import matplotlib.pyplot as plt"
   ]
  },
  {
   "cell_type": "markdown",
   "id": "773f6f4e",
   "metadata": {},
   "source": [
    "# Loading the data and some useful stats"
   ]
  },
  {
   "cell_type": "code",
   "execution_count": 2,
   "id": "6c6497b5",
   "metadata": {},
   "outputs": [],
   "source": [
    "directory = \"MAL Dataset/a5000u100k\""
   ]
  },
  {
   "cell_type": "code",
   "execution_count": 3,
   "id": "93fc2627",
   "metadata": {},
   "outputs": [
    {
     "data": {
      "text/plain": [
       "(100000, 5000, 0.044789772)"
      ]
     },
     "execution_count": 3,
     "metadata": {},
     "output_type": "execute_result"
    }
   ],
   "source": [
    "mal_dataset = pd.read_csv(os.path.join(directory, \"ratings.csv\"))\n",
    "nusers = mal_dataset['uid'].nunique()\n",
    "nanime = mal_dataset['aid'].nunique()\n",
    "sparsity = len(mal_dataset) / (nusers * nanime)\n",
    "nusers, nanime, sparsity"
   ]
  },
  {
   "cell_type": "markdown",
   "id": "c513bd9e",
   "metadata": {},
   "source": [
    "# Some hyperparameters\n",
    "latent_features: Latent dimension for anime and user matrices<br>\n",
    "lambd: Regularization term weight<br>\n",
    "And the rest are self explanatory"
   ]
  },
  {
   "cell_type": "code",
   "execution_count": 4,
   "id": "a60accf5",
   "metadata": {},
   "outputs": [
    {
     "data": {
      "text/plain": [
       "(device(type='cuda'), 'NVIDIA GeForce RTX 3070 Laptop GPU')"
      ]
     },
     "execution_count": 4,
     "metadata": {},
     "output_type": "execute_result"
    }
   ],
   "source": [
    "latent_features = 10\n",
    "learning_rate = 1e-3\n",
    "batch_size = 1024\n",
    "epochs = 10\n",
    "lambd = 2e-3\n",
    "device = torch.device(\"cuda\" if torch.cuda.is_available() else \"cpu\")\n",
    "device, torch.cuda.get_device_name(torch.cuda.current_device())"
   ]
  },
  {
   "cell_type": "markdown",
   "id": "33589e37",
   "metadata": {},
   "source": [
    "# Constructing the sparse matrix\n",
    "A (nanime x nusers) dimension matrix which contains ratings in sparse locations. Note that this is on the CPU RAM and not GPU RAM because of memory constraints"
   ]
  },
  {
   "cell_type": "code",
   "execution_count": 5,
   "id": "de9b58ec",
   "metadata": {},
   "outputs": [
    {
     "data": {
      "text/plain": [
       "torch.Size([5000, 100000])"
      ]
     },
     "execution_count": 5,
     "metadata": {},
     "output_type": "execute_result"
    }
   ],
   "source": [
    "ratings_sparse = torch.sparse_coo_tensor(torch.tensor(mal_dataset[['aid', 'uid']].values).T, torch.tensor(mal_dataset['my_score'].values).reshape(-1), (nanime, nusers))\n",
    "ratings_dense = ratings_sparse.to_dense()\n",
    "ratings_dense.shape"
   ]
  },
  {
   "cell_type": "markdown",
   "id": "b33de23a",
   "metadata": {},
   "source": [
    "# Mask\n",
    "This is so that when we generate the predicted ratings, we can element-wise multiply that with this matrix, in order to compute the RMSE against our existing ratings. This trick helps us vectorize everything rather than running a for loop.\n",
    "Again, this is not on the VRAM because of memory constraints.<br>"
   ]
  },
  {
   "cell_type": "code",
   "execution_count": 6,
   "id": "82364cd9",
   "metadata": {},
   "outputs": [],
   "source": [
    "mask = torch.where(ratings_dense>0, 1, 0)"
   ]
  },
  {
   "cell_type": "markdown",
   "id": "f4925016",
   "metadata": {},
   "source": [
    "# Feature scaling\n",
    "A neat little preprocessing step that's proven to speed up learning. It also appropriately deals with certain users who've rated very few anime"
   ]
  },
  {
   "cell_type": "code",
   "execution_count": 7,
   "id": "e244cd4f",
   "metadata": {},
   "outputs": [],
   "source": [
    "a_avs = torch.sum(ratings_dense, dim=1, keepdim=True) / torch.count_nonzero(ratings_dense, dim=1).reshape(-1,1)\n",
    "ratings_dense = mask * (ratings_dense - a_avs)\n",
    "\n",
    "a_stds = torch.sum(torch.square(ratings_dense), dim=1, keepdim=True) / (1e-3 + torch.count_nonzero(ratings_dense, dim=1).reshape(-1,1))\n",
    "a_stds = torch.sqrt(a_stds)\n",
    "\n",
    "ratings_dense = ratings_dense / a_stds"
   ]
  },
  {
   "cell_type": "code",
   "execution_count": 8,
   "id": "8187646a",
   "metadata": {},
   "outputs": [],
   "source": [
    "# These 1D matrices are not that big, so GPU time (if available ofc)\n",
    "a_stds = a_stds.to(device)\n",
    "a_avs = a_avs.to(device)"
   ]
  },
  {
   "cell_type": "code",
   "execution_count": 9,
   "id": "b55fa87a",
   "metadata": {
    "scrolled": true
   },
   "outputs": [
    {
     "data": {
      "text/plain": [
       "tensor([[1.0000],\n",
       "        [1.0000],\n",
       "        [1.0000],\n",
       "        ...,\n",
       "        [1.0000],\n",
       "        [1.0000],\n",
       "        [1.0000]])"
      ]
     },
     "execution_count": 9,
     "metadata": {},
     "output_type": "execute_result"
    }
   ],
   "source": [
    "# Just checking if std is 1\n",
    "torch.sum(torch.square(ratings_dense), dim=1, keepdim=True) / torch.count_nonzero(ratings_dense, dim=1).reshape(-1,1)"
   ]
  },
  {
   "cell_type": "code",
   "execution_count": 10,
   "id": "4e79ab2f",
   "metadata": {},
   "outputs": [
    {
     "data": {
      "text/plain": [
       "tensor([[-2.7682e-07],\n",
       "        [ 3.4735e-07],\n",
       "        [-1.1527e-07],\n",
       "        ...,\n",
       "        [ 1.3543e-07],\n",
       "        [ 7.6447e-09],\n",
       "        [ 1.2328e-07]])"
      ]
     },
     "execution_count": 10,
     "metadata": {},
     "output_type": "execute_result"
    }
   ],
   "source": [
    "# and mean is 0 for all anime\n",
    "torch.sum(ratings_dense, dim=1, keepdim=True) / torch.count_nonzero(ratings_dense, dim=1).reshape(-1,1)"
   ]
  },
  {
   "cell_type": "markdown",
   "id": "33bc04ff",
   "metadata": {},
   "source": [
    "# Visualization\n",
    "Let's see the distributions before and after\n",
    "#### Before:"
   ]
  },
  {
   "cell_type": "code",
   "execution_count": 11,
   "id": "72ecd41f",
   "metadata": {
    "scrolled": false
   },
   "outputs": [
    {
     "data": {
      "text/plain": [
       "[<matplotlib.lines.Line2D at 0x1b413d88610>]"
      ]
     },
     "execution_count": 11,
     "metadata": {},
     "output_type": "execute_result"
    },
    {
     "data": {
      "image/png": "[encoded data removed]",
      "text/plain": [
       "<Figure size 432x288 with 1 Axes>"
      ]
     },
     "metadata": {
      "needs_background": "light"
     },
     "output_type": "display_data"
    }
   ],
   "source": [
    "plt.plot(np.sort(np.random.choice(mal_dataset['my_score'].to_numpy(), 1000)), '.')"
   ]
  },
  {
   "cell_type": "markdown",
   "id": "8aacac56",
   "metadata": {},
   "source": [
    "#### After:"
   ]
  },
  {
   "cell_type": "code",
   "execution_count": 12,
   "id": "b1087cd1",
   "metadata": {},
   "outputs": [
    {
     "data": {
      "image/png": "[encoded data removed]",
      "text/plain": [
       "<Figure size 432x288 with 1 Axes>"
      ]
     },
     "metadata": {
      "needs_background": "light"
     },
     "output_type": "display_data"
    }
   ],
   "source": [
    "nonzero = torch.nonzero(ratings_dense).numpy()\n",
    "nonzero_indices = np.random.choice(nonzero.shape[0], 1000, replace=False)\n",
    "nonzero = nonzero[nonzero_indices]\n",
    "agg = []\n",
    "for i, j in nonzero:\n",
    "    agg.append(float(ratings_dense[i,j]))\n",
    "    plt.plot(sorted(agg), '.')"
   ]
  },
  {
   "cell_type": "markdown",
   "id": "5a93a6d8",
   "metadata": {},
   "source": [
    "Works. If we wanted to feature-scale the matrix along each user instead, we can run the cell below but I think scaling per anime makes more sense."
   ]
  },
  {
   "cell_type": "code",
   "execution_count": 13,
   "id": "f659130a",
   "metadata": {},
   "outputs": [],
   "source": [
    "#user_avs = torch.sum(ratings_dense, dim=0, keepdim=True) / torch.count_nonzero(ratings_dense, dim=0).reshape(1,-1)\n",
    "#ratings_dense = mask * (ratings_dense - user_avs)\n",
    "\n",
    "#u_stds = torch.sum(torch.square(ratings_dense), dim=0, keepdim=True) / (1e-3 + torch.count_nonzero(ratings_dense, dim=0).reshape(1,-1))\n",
    "\n",
    "#ratings_dense = ratings_dense / torch.sqrt(user_stds)"
   ]
  },
  {
   "cell_type": "code",
   "execution_count": 14,
   "id": "756ca0c3",
   "metadata": {},
   "outputs": [
    {
     "data": {
      "text/plain": [
       "(20155397, 2239489, 22394886)"
      ]
     },
     "execution_count": 14,
     "metadata": {},
     "output_type": "execute_result"
    }
   ],
   "source": [
    "# Test train split\n",
    "train, test = np.split(mal_dataset[['uid', 'aid']].sample(frac=1), [int(0.9*len(mal_dataset))])\n",
    "train_len = len(train)\n",
    "test_len = len(test)\n",
    "total_len = train_len + test_len\n",
    "train_len, test_len, total_len"
   ]
  },
  {
   "cell_type": "markdown",
   "id": "18891fe8",
   "metadata": {},
   "source": [
    "# Test and train masks\n",
    "Just as the names suggest, masks for computing the test and train RMSE's vectorized-ly.<br>\n",
    "However making the mask itself is the one thing I couldn't vectorize. After wracking my brain and searching the PyTorch docs for a couple hours I gave up and settled for a for loop. A stain in the otherwise perfectly-vectorized notebook, sure, but at least I'm running it only once."
   ]
  },
  {
   "cell_type": "code",
   "execution_count": 15,
   "id": "2cd1834e",
   "metadata": {},
   "outputs": [
    {
     "data": {
      "text/plain": [
       "tensor(2239489)"
      ]
     },
     "execution_count": 15,
     "metadata": {},
     "output_type": "execute_result"
    }
   ],
   "source": [
    "# Masks for test and train datasets\n",
    "mask_test = torch.zeros_like(ratings_dense)\n",
    "for index, row in test[['uid', 'aid']].iterrows():\n",
    "    mask_test[row['aid'], row['uid']] = 1\n",
    "    \n",
    "mask_train = mask - mask_test\n",
    "torch.count_nonzero(mask_test)"
   ]
  },
  {
   "cell_type": "markdown",
   "id": "94fc809d",
   "metadata": {},
   "source": [
    "# Initializing the weights\n",
    "Only these matrices, which contain our learnable parameters, are initialized on the GPU for performance.<br>\n",
    "Oh, and of course, the optimizer. Why bother implementing it yourself when you're already committed to using PyTorch"
   ]
  },
  {
   "cell_type": "code",
   "execution_count": 16,
   "id": "adeae5fc",
   "metadata": {},
   "outputs": [],
   "source": [
    "user_matrix = torch.randn(latent_features, nusers, requires_grad=True, device=device)\n",
    "anime_matrix = torch.randn(nanime, latent_features, requires_grad=True, device=device)"
   ]
  },
  {
   "cell_type": "code",
   "execution_count": 17,
   "id": "555525bd",
   "metadata": {},
   "outputs": [],
   "source": [
    "optimizer = torch.optim.Adam([\n",
    "    {'params': user_matrix},\n",
    "    {'params': anime_matrix}\n",
    "], lr=learning_rate)"
   ]
  },
  {
   "cell_type": "code",
   "execution_count": 18,
   "id": "3273d854",
   "metadata": {},
   "outputs": [],
   "source": [
    "# For plotting\n",
    "total_rmse_history = []\n",
    "test_rmse_history = []\n",
    "train_rmse_history = []"
   ]
  },
  {
   "cell_type": "markdown",
   "id": "7124685f",
   "metadata": {},
   "source": [
    "# Partitioning\n",
    "Remember how we created the ratings and mask matrices on the CPU? Well, we need to send them over to the GPU to compute the RMSE's. We certainly don't want to do it in the CPU.<br>\n",
    "The GPU only has so much memory, so we need to split up the big matrices and compute the RMSE by aggregating the result from each partition."
   ]
  },
  {
   "cell_type": "code",
   "execution_count": 19,
   "id": "a38fef53",
   "metadata": {},
   "outputs": [],
   "source": [
    "partitions = 10"
   ]
  },
  {
   "cell_type": "markdown",
   "id": "686fef99",
   "metadata": {},
   "source": [
    "# The training loop\n",
    "### Batching\n",
    "This is the part which is relatively unique and required a bit of thinking. We need (approximately) batch_size number of ratings per batch, and these ratings need to be organized in a matrix similar to the sparse matrix in order for the loss computation to be vectorized.<br>\n",
    "The \"chunk\" variable in the data-loader contains a pandas dataframe with 3 columns and batch_size rows. We construct a diagonal matrix of size batch_size x batch_size where the rows are anime and columns are users, and the actual elements are ratings. This is not quite similar to the original ratings matrix, as there may be duplicate user/anime columns/rows, but this effectively solves the vectorization problem. PyTorch's autograd takes care of the rest.\n",
    "### Loss\n",
    "This is just a simple matrix norm of the difference between masked predictions and existing ratings. Added to it is a simple regularization term.\n",
    "### Testing\n",
    "This is where our earlier computed mask, ratings matrix and partitions come into play. Using these we compute a slightly different loss metric compared to while training, which is the RMSE. It's a commonly used metric in recommender systems that was also used in the [Netflix Prize](https://en.wikipedia.org/wiki/Netflix_Prize) contest. Regularization is not taken into account here.<br>\n",
    "### Performance profiling\n",
    "[Robert Kern's line_profiler](https://github.com/pyutils/line_profiler) is used to time each line and identify bottlenecks. In my case, I was using PyTorch's dataloader earlier and that was taking up about 87% of the total time per loop just to fetch data. Increasing the num_workers parameters led to crashes due to windows restricting multithreading or something (I'm not very knowledgeable in the matter, check https://github.com/pytorch/pytorch/issues/12831). After fruitless efforts to remedy that I just ended up using good ol' numpy. Now my \"bottleneck\" is the batchwise loss computation and backpropagation, which I'll leave to PyTorch and Nvidia to optimize :)\n",
    "\n",
    "P.S. You might notice a lot of commented debugging statements in the middle, that's to be expected cause this is my first time using PyTorch and messing around with CUDA :]"
   ]
  },
  {
   "cell_type": "code",
   "execution_count": 20,
   "id": "8908914a",
   "metadata": {},
   "outputs": [],
   "source": [
    "%load_ext line_profiler\n",
    "def training_loop():\n",
    "    for epoch in range(epochs):\n",
    "        print(\"Epoch \" + str(epoch))\n",
    "        for i, chunk in enumerate(np.array_split(train, int(len(train)/batch_size))):\n",
    "            if i%5000 == 0:\n",
    "                print(str(i) + \" iterations, \" + str(len(chunk) * i) + \" samples processed\")\n",
    "                te, tr, to = rmse()\n",
    "                print(\"Test RMSE: \" + str(te))\n",
    "                print(\"Train RMSE: \" + str(tr))\n",
    "                print(\"Total RMSE: \" + str(to))\n",
    "                print(\"\")\n",
    "            \n",
    "            optimizer.zero_grad()\n",
    "            samples = torch.tensor(chunk.values)\n",
    "#            print(\"Grad before backprop: \" + str(float(torch.norm(anime_matrix.grad)))) if anime_matrix.grad is not None else print(\"Grad before backprop: None\")\n",
    "            mask_cuda = torch.diag(torch.ones(len(chunk), device=device))\n",
    "            ratings_cuda = ratings_dense[samples[:,1], samples[:,0]].to(device)\n",
    "            loss = torch.norm(mask_cuda * torch.matmul(anime_matrix[samples[:,1], :], user_matrix[:, samples[:,0]]) - ratings_cuda) + lambd * (torch.norm(anime_matrix[samples[:,1], :]) + torch.norm(user_matrix[:, samples[:,0]]))\n",
    "            loss.backward()\n",
    "#            print(\"Grad after backprop: \" + str(float(torch.norm(anime_matrix.grad)))) if anime_matrix.grad is not None else print(\"Grad after backprop: None\")\n",
    "#            am = anime_matrix.clone().detach()\n",
    "            optimizer.step()\n",
    "            del mask_cuda\n",
    "            del ratings_cuda\n",
    "#            print(\"Difference after step: \" + str(float(torch.sum(am-anime_matrix))))\n",
    "#            print(\"\")\n",
    "#            time.sleep(5)\n",
    "\n",
    "def rmse():\n",
    "    test_rmse = 0\n",
    "    train_rmse = 0\n",
    "    preds = torch.matmul(anime_matrix, user_matrix) * a_stds + a_avs\n",
    "    for n in range(partitions):\n",
    "        a_start = int(nanime*n/partitions)\n",
    "        a_end = int(nanime*(n+1)/partitions)\n",
    "        u_start = int(nusers*n/partitions)\n",
    "        u_end = int(nusers*(n+1)/partitions)\n",
    "        ratings_c = ratings_dense[a_start:a_end, u_start:u_end].to(device)\n",
    "        mask_c_test = mask_test[a_start:a_end, u_start:u_end].to(device)\n",
    "        mask_c_train = mask_train[a_start:a_end, u_start:u_end].to(device)\n",
    "        pred_partition = preds[a_start:a_end, u_start:u_end]\n",
    "        a_stds_part = a_stds[a_start:a_end]\n",
    "        a_avs_part = a_avs[a_start:a_end]\n",
    "        test_rmse += float(torch.sum(torch.square(mask_c_test * pred_partition - mask_c_test * (ratings_c * a_stds_part + a_avs_part))))\n",
    "        train_rmse += float(torch.sum(torch.square(mask_c_train * pred_partition - mask_c_train * (ratings_c * a_stds_part + a_avs_part))))\n",
    "        del ratings_c\n",
    "        del mask_c_test\n",
    "        del mask_c_train\n",
    "    total_rmse = test_rmse + train_rmse\n",
    "    \n",
    "    test_rmse = np.sqrt(test_rmse/test_len)\n",
    "    train_rmse = np.sqrt(train_rmse/train_len)\n",
    "    total_rmse = np.sqrt(total_rmse/total_len)\n",
    "    \n",
    "    test_rmse_history.append(test_rmse)\n",
    "    train_rmse_history.append(train_rmse)\n",
    "    total_rmse_history.append(total_rmse)\n",
    "    del preds\n",
    "    \n",
    "    return test_rmse, train_rmse, total_rmse"
   ]
  },
  {
   "cell_type": "code",
   "execution_count": 21,
   "id": "780da2e7",
   "metadata": {
    "scrolled": true
   },
   "outputs": [
    {
     "name": "stdout",
     "output_type": "stream",
     "text": [
      "Epoch 0\n",
      "0 iterations, 0 samples processed\n",
      "Test RMSE: 1.5985299358928284\n",
      "Train RMSE: 1.5966822385655943\n",
      "Total RMSE: 1.5968671045380565\n",
      "\n",
      "5000 iterations, 5120000 samples processed\n",
      "Test RMSE: 0.7688783919528421\n",
      "Train RMSE: 0.7635515342986843\n",
      "Total RMSE: 0.7640858913001128\n",
      "\n",
      "10000 iterations, 10240000 samples processed\n",
      "Test RMSE: 0.5534148610517706\n",
      "Train RMSE: 0.5485130462839347\n",
      "Total RMSE: 0.5490051973242923\n",
      "\n",
      "15000 iterations, 15360000 samples processed\n",
      "Test RMSE: 0.501136064676306\n",
      "Train RMSE: 0.4975665924647292\n",
      "Total RMSE: 0.49792469123238264\n",
      "\n",
      "Epoch 1\n",
      "0 iterations, 0 samples processed\n",
      "Test RMSE: 0.4815163688379967\n",
      "Train RMSE: 0.47911960677503757\n",
      "Total RMSE: 0.47935982228765994\n",
      "\n",
      "5000 iterations, 5120000 samples processed\n",
      "Test RMSE: 0.4293612957733881\n",
      "Train RMSE: 0.4269188923420634\n",
      "Total RMSE: 0.4271637611536024\n",
      "\n",
      "10000 iterations, 10240000 samples processed\n",
      "Test RMSE: 0.401741074421844\n",
      "Train RMSE: 0.3987126282808648\n",
      "Total RMSE: 0.39901650728589066\n",
      "\n",
      "15000 iterations, 15360000 samples processed\n",
      "Test RMSE: 0.3954500753839785\n",
      "Train RMSE: 0.3922878576945008\n",
      "Total RMSE: 0.3926052256678438\n",
      "\n",
      "Epoch 2\n",
      "0 iterations, 0 samples processed\n",
      "Test RMSE: 0.3937161772777868\n",
      "Train RMSE: 0.3905703176880991\n",
      "Total RMSE: 0.3908860430127635\n",
      "\n",
      "5000 iterations, 5120000 samples processed\n",
      "Test RMSE: 0.3929780163124291\n",
      "Train RMSE: 0.38988380772255304\n",
      "Total RMSE: 0.39019433279529336\n",
      "\n",
      "10000 iterations, 10240000 samples processed\n",
      "Test RMSE: 0.3926979519180585\n",
      "Train RMSE: 0.38954947145794566\n",
      "Total RMSE: 0.38986546375628395\n",
      "\n",
      "15000 iterations, 15360000 samples processed\n",
      "Test RMSE: 0.39223840143197547\n",
      "Train RMSE: 0.3891035496329067\n",
      "Total RMSE: 0.3894181704835759\n",
      "\n",
      "Epoch 3\n",
      "0 iterations, 0 samples processed\n",
      "Test RMSE: 0.3915364733129568\n",
      "Train RMSE: 0.388422548631735\n",
      "Total RMSE: 0.388735063627955\n",
      "\n",
      "5000 iterations, 5120000 samples processed\n",
      "Test RMSE: 0.39025999023504276\n",
      "Train RMSE: 0.38711500234196466\n",
      "Total RMSE: 0.38743065002125304\n",
      "\n",
      "10000 iterations, 10240000 samples processed\n",
      "Test RMSE: 0.388770595507934\n",
      "Train RMSE: 0.385429657031722\n",
      "Total RMSE: 0.38576505298820185\n",
      "\n",
      "15000 iterations, 15360000 samples processed\n",
      "Test RMSE: 0.3871908140412256\n",
      "Train RMSE: 0.3837721499481306\n",
      "Total RMSE: 0.3841153856110117\n",
      "\n",
      "Epoch 4\n",
      "0 iterations, 0 samples processed\n",
      "Test RMSE: 0.38601451514238716\n",
      "Train RMSE: 0.38251068698362717\n",
      "Total RMSE: 0.3828625128282675\n",
      "\n",
      "5000 iterations, 5120000 samples processed\n",
      "Test RMSE: 0.38494308666855015\n",
      "Train RMSE: 0.38133736886291775\n",
      "Total RMSE: 0.3816994734721351\n",
      "\n",
      "10000 iterations, 10240000 samples processed\n",
      "Test RMSE: 0.38412512617805755\n",
      "Train RMSE: 0.38032776122814826\n",
      "Total RMSE: 0.3807092022432793\n",
      "\n",
      "15000 iterations, 15360000 samples processed\n",
      "Test RMSE: 0.3832970592752847\n",
      "Train RMSE: 0.379461452584009\n",
      "Total RMSE: 0.37984675622494546\n",
      "\n",
      "Epoch 5\n",
      "0 iterations, 0 samples processed\n",
      "Test RMSE: 0.3826856856739106\n",
      "Train RMSE: 0.3787835491270055\n",
      "Total RMSE: 0.3791755699347846\n",
      "\n",
      "5000 iterations, 5120000 samples processed\n",
      "Test RMSE: 0.3820428803709944\n",
      "Train RMSE: 0.3780504992288326\n",
      "Total RMSE: 0.3784516326677302\n",
      "\n",
      "10000 iterations, 10240000 samples processed\n",
      "Test RMSE: 0.3815333410238309\n",
      "Train RMSE: 0.3773664240255667\n",
      "Total RMSE: 0.3777851840284663\n",
      "\n",
      "15000 iterations, 15360000 samples processed\n",
      "Test RMSE: 0.3809611774695263\n",
      "Train RMSE: 0.3767642546858266\n",
      "Total RMSE: 0.37718604849433024\n",
      "\n",
      "Epoch 6\n",
      "0 iterations, 0 samples processed\n",
      "Test RMSE: 0.38053610317147335\n",
      "Train RMSE: 0.3762739167992456\n",
      "Total RMSE: 0.3767023056159975\n",
      "\n",
      "5000 iterations, 5120000 samples processed\n",
      "Test RMSE: 0.38005056169919044\n",
      "Train RMSE: 0.3757087040076779\n",
      "Total RMSE: 0.3761451451817674\n",
      "\n",
      "10000 iterations, 10240000 samples processed\n",
      "Test RMSE: 0.3796764187499595\n",
      "Train RMSE: 0.37515726257018417\n",
      "Total RMSE: 0.3756116250193098\n",
      "\n",
      "15000 iterations, 15360000 samples processed\n",
      "Test RMSE: 0.37921026244197487\n",
      "Train RMSE: 0.3746591241925339\n",
      "Total RMSE: 0.37511672287710296\n",
      "\n",
      "Epoch 7\n",
      "0 iterations, 0 samples processed\n",
      "Test RMSE: 0.37885624621577846\n",
      "Train RMSE: 0.37423362273126676\n",
      "Total RMSE: 0.37469845147286335\n",
      "\n",
      "5000 iterations, 5120000 samples processed\n",
      "Test RMSE: 0.3784121589774293\n",
      "Train RMSE: 0.3737195321246909\n",
      "Total RMSE: 0.3741914431031056\n",
      "\n",
      "10000 iterations, 10240000 samples processed\n",
      "Test RMSE: 0.37807808170346385\n",
      "Train RMSE: 0.37319770607174746\n",
      "Total RMSE: 0.37368861193169695\n",
      "\n",
      "15000 iterations, 15360000 samples processed\n",
      "Test RMSE: 0.37764779411160426\n",
      "Train RMSE: 0.3727275666559573\n",
      "Total RMSE: 0.37322250837325444\n",
      "\n",
      "Epoch 8\n",
      "0 iterations, 0 samples processed\n",
      "Test RMSE: 0.3773281189005032\n",
      "Train RMSE: 0.3723298634017083\n",
      "Total RMSE: 0.37283270438748556\n",
      "\n",
      "5000 iterations, 5120000 samples processed\n",
      "Test RMSE: 0.3769083481183517\n",
      "Train RMSE: 0.3718509246450827\n",
      "Total RMSE: 0.3723597581630296\n",
      "\n",
      "10000 iterations, 10240000 samples processed\n",
      "Test RMSE: 0.3766176958929554\n",
      "Train RMSE: 0.3713654147137467\n",
      "Total RMSE: 0.3718939809638004\n",
      "\n",
      "15000 iterations, 15360000 samples processed\n",
      "Test RMSE: 0.3762451895666765\n",
      "Train RMSE: 0.37095177176028804\n",
      "Total RMSE: 0.37148450790408305\n",
      "\n",
      "Epoch 9\n",
      "0 iterations, 0 samples processed\n",
      "Test RMSE: 0.37598252377847474\n",
      "Train RMSE: 0.37061455874925975\n",
      "Total RMSE: 0.37115484899362866\n",
      "\n",
      "5000 iterations, 5120000 samples processed\n",
      "Test RMSE: 0.37561464980128023\n",
      "Train RMSE: 0.3702028687425801\n",
      "Total RMSE: 0.37074760175803934\n",
      "\n",
      "10000 iterations, 10240000 samples processed\n",
      "Test RMSE: 0.37538913746050157\n",
      "Train RMSE: 0.36978280512167994\n",
      "Total RMSE: 0.3703472575762441\n",
      "\n",
      "15000 iterations, 15360000 samples processed\n",
      "Test RMSE: 0.3750905510214387\n",
      "Train RMSE: 0.3694504728757251\n",
      "Total RMSE: 0.37001834946235834\n",
      "\n"
     ]
    }
   ],
   "source": [
    "%lprun -f training_loop training_loop()"
   ]
  },
  {
   "cell_type": "code",
   "execution_count": 22,
   "id": "5583a2e9",
   "metadata": {
    "scrolled": true
   },
   "outputs": [
    {
     "data": {
      "text/plain": [
       "[<matplotlib.lines.Line2D at 0x1b42e8dcd30>]"
      ]
     },
     "execution_count": 22,
     "metadata": {},
     "output_type": "execute_result"
    },
    {
     "data": {
      "image/png": "[encoded data removed]",
      "text/plain": [
       "<Figure size 432x288 with 1 Axes>"
      ]
     },
     "metadata": {
      "needs_background": "light"
     },
     "output_type": "display_data"
    }
   ],
   "source": [
    "plt.plot(test_rmse_history)\n",
    "plt.plot(train_rmse_history)\n",
    "plt.plot(total_rmse_history)"
   ]
  },
  {
   "cell_type": "markdown",
   "id": "7eb0c230",
   "metadata": {},
   "source": [
    "# Original ratings matrix\n",
    "It's good to look back once in a while"
   ]
  },
  {
   "cell_type": "code",
   "execution_count": 23,
   "id": "0056f137",
   "metadata": {
    "scrolled": true
   },
   "outputs": [
    {
     "data": {
      "text/plain": [
       "tensor([[ 8.,  0.,  0.,  ...,  9.,  0.,  0.],\n",
       "        [ 9.,  0.,  0.,  ...,  0.,  0.,  0.],\n",
       "        [ 9.,  0.,  0.,  ...,  7., 10.,  9.],\n",
       "        ...,\n",
       "        [ 0.,  0.,  0.,  ...,  0.,  0.,  0.],\n",
       "        [ 0.,  0.,  0.,  ...,  0.,  0.,  0.],\n",
       "        [ 0.,  0.,  0.,  ...,  0.,  0.,  0.]])"
      ]
     },
     "execution_count": 23,
     "metadata": {},
     "output_type": "execute_result"
    }
   ],
   "source": [
    "mask * (ratings_dense * a_stds.cpu() + a_avs.cpu())"
   ]
  },
  {
   "cell_type": "markdown",
   "id": "7a6c23f7",
   "metadata": {},
   "source": [
    "# Our predictions\n",
    "And see how far we've come"
   ]
  },
  {
   "cell_type": "code",
   "execution_count": 28,
   "id": "8c22d616",
   "metadata": {
    "scrolled": false
   },
   "outputs": [
    {
     "data": {
      "text/plain": [
       "tensor([[8.4565, 9.6004, 8.7436,  ..., 9.1054, 9.0892, 8.9441],\n",
       "        [8.6836, 9.5547, 8.9600,  ..., 9.2897, 9.0688, 8.9647],\n",
       "        [7.3027, 8.2903, 7.7658,  ..., 6.2931, 9.0661, 8.9541],\n",
       "        ...,\n",
       "        [6.1536, 7.8676, 6.6065,  ..., 5.8541, 8.1039, 7.7327],\n",
       "        [6.0520, 7.6776, 6.3976,  ..., 5.5897, 8.0784, 7.6384],\n",
       "        [7.5105, 9.5570, 8.3725,  ..., 7.3307, 9.8271, 9.3888]],\n",
       "       device='cuda:0', grad_fn=<AddBackward0>)"
      ]
     },
     "execution_count": 28,
     "metadata": {},
     "output_type": "execute_result"
    }
   ],
   "source": [
    "mul = torch.matmul(anime_matrix, user_matrix) * a_stds + a_avs\n",
    "mul"
   ]
  },
  {
   "cell_type": "markdown",
   "id": "a83feb03",
   "metadata": {},
   "source": [
    "# Visualization\n",
    "### Predicted ratings:"
   ]
  },
  {
   "cell_type": "code",
   "execution_count": 29,
   "id": "d3594739",
   "metadata": {
    "scrolled": true
   },
   "outputs": [
    {
     "data": {
      "text/plain": [
       "[<matplotlib.lines.Line2D at 0x1b42f0713d0>]"
      ]
     },
     "execution_count": 29,
     "metadata": {},
     "output_type": "execute_result"
    },
    {
     "data": {
      "image/png": "[encoded data removed]",
      "text/plain": [
       "<Figure size 432x288 with 1 Axes>"
      ]
     },
     "metadata": {
      "needs_background": "light"
     },
     "output_type": "display_data"
    }
   ],
   "source": [
    "plt.plot(np.sort(np.random.choice(mul.reshape(1,-1).detach().cpu().numpy()[0], 10000)), '.')"
   ]
  },
  {
   "cell_type": "markdown",
   "id": "50fe039d",
   "metadata": {},
   "source": [
    "Clipping our predictions to lie between 0 and 10 will make it the distribution look pretty similar to the original one. I'm not going to bother though because it makes no difference to the end user."
   ]
  },
  {
   "cell_type": "code",
   "execution_count": 30,
   "id": "d80b6225",
   "metadata": {},
   "outputs": [],
   "source": [
    "torch.save(anime_matrix.detach(), os.path.join(directory, 'anime_matrix.pt'))\n",
    "torch.save(user_matrix.detach(), os.path.join(directory, 'user_matrix.pt'))\n",
    "torch.save(a_avs, os.path.join(directory, 'a_avs.pt'))\n",
    "torch.save(a_stds, os.path.join(directory, 'a_stds.pt'))\n",
    "torch.save(mask, os.path.join(directory, 'mask.pt'))"
   ]
  },
  {
   "cell_type": "code",
   "execution_count": null,
   "id": "a6d6c331",
   "metadata": {},
   "outputs": [],
   "source": []
  }
 ],
 "metadata": {
  "kernelspec": {
   "display_name": "Python 3 (ipykernel)",
   "language": "python",
   "name": "python3"
  },
  "language_info": {
   "codemirror_mode": {
    "name": "ipython",
    "version": 3
   },
   "file_extension": ".py",
   "mimetype": "text/x-python",
   "name": "python",
   "nbconvert_exporter": "python",
   "pygments_lexer": "ipython3",
   "version": "3.8.12"
  }
 },
 "nbformat": 4,
 "nbformat_minor": 5
}
